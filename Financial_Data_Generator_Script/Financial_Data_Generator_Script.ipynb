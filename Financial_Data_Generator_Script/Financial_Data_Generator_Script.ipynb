{
 "cells": [
  {
   "cell_type": "markdown",
   "id": "8ce7fe39-315d-424d-a727-253799972f0b",
   "metadata": {},
   "source": [
    "## Generate Financial Transaction Data"
   ]
  },
  {
   "cell_type": "markdown",
   "id": "4bcbe0f8-f7f4-4ff2-bb08-96840678cd7a",
   "metadata": {},
   "source": [
    "### 1. Import necessary libraries"
   ]
  },
  {
   "cell_type": "code",
   "execution_count": null,
   "id": "1862f68b-5b88-4dbc-8295-e06ef5acf215",
   "metadata": {},
   "outputs": [],
   "source": [
    "# Import necessary libraries\n",
    "import pandas as pd\n",
    "import random\n",
    "from datetime import datetime\n",
    "from faker import Faker\n",
    "import pyodbc\n",
    "import os\n",
    "import uuid\n",
    "import decimal"
   ]
  },
  {
   "cell_type": "markdown",
   "id": "449743c9-b111-40e8-a169-ec6b97d5c75b",
   "metadata": {},
   "source": [
    "### 2. Initialize Faker"
   ]
  },
  {
   "cell_type": "code",
   "execution_count": null,
   "id": "2a8a6fe7-23de-4399-b17d-685a1771b4ba",
   "metadata": {},
   "outputs": [],
   "source": [
    "# Initialize Faker\n",
    "faker = Faker()"
   ]
  },
  {
   "cell_type": "markdown",
   "id": "91b730ef-9e21-4747-b6a1-fb974428d2d5",
   "metadata": {},
   "source": [
    "### 3. Function to generate random banking transactions"
   ]
  },
  {
   "cell_type": "code",
   "execution_count": null,
   "id": "7c426a9d-4ed0-4532-9638-1eb144b406eb",
   "metadata": {},
   "outputs": [],
   "source": [
    "# Function to generate random banking transactions\n",
    "\n",
    "def generate_transactions(num_records):\n",
    "    data = []\n",
    "    transaction_type_list = ['Deposit','Withdrawal','Transfer','Loan Payment']\n",
    "    branch_list = ['Head Office Branch', 'City Branch 1', 'City Branch 2', 'City Branch 3', 'City Branch 4']\n",
    "    currency_list = ['USD', 'GBP', 'SGD', 'EUR', 'AUD']\n",
    "\n",
    "    customer_registry = {}  # To ensure same BKey for same customer name\n",
    "\n",
    "    # Generate data fro each transaction\n",
    "    for i in range(num_records):\n",
    "        transaction_id = str(uuid.uuid4())\n",
    "        account_number = faker.unique.credit_card_number()\n",
    "        transaction_date = faker.date_this_year()\n",
    "        transaction_type = random.choice(transaction_type_list)\n",
    "        transaction_amount = round(random.uniform(100,10000),2)\n",
    "        currency_bkey = random.choice(currency_list)\n",
    "        branch = random.choice(branch_list)\n",
    "\n",
    "    # Generate or reuse customer data\n",
    "        customer_name = faker.name()\n",
    "\n",
    "        \n",
    "        if customer_name not in customer_registry:\n",
    "            customer_bkey = f\"C{random.randint(1, 999999):05d}\"\n",
    "            dob = faker.date_of_birth(minimum_age=18, maximum_age=85)\n",
    "            contact_number = faker.phone_number()\n",
    "            email = faker.email()\n",
    "            location = faker.city()\n",
    "             # Save consistent customer details\n",
    "            customer_registry[customer_name] = (customer_bkey, dob, contact_number, email, location)\n",
    "        else:\n",
    "            customer_bkey, dob, contact_number, email, location = customer_registry[customer_name]\n",
    "\n",
    "    # Add all the data to the list\n",
    "        data.append([transaction_id, customer_bkey, account_number, transaction_date, transaction_type, transaction_amount, currency_bkey, branch,\n",
    "                     customer_name, dob, contact_number, email, location])\n",
    "\n",
    "    # Create a DataFrame\n",
    "    df = pd.DataFrame(data, columns=['TransactionID', 'CustomerBkey', 'AccountNumber', 'TransactionDate', 'TransactionType', 'TransactionAmount', \n",
    "                                     'CurrencyBkey', 'Branch', 'CustomerName', 'DOB', 'ContactNumber', 'Email', 'Location'])\n",
    "\n",
    "    return df"
   ]
  },
  {
   "cell_type": "markdown",
   "id": "ad832698-e03c-4bb4-b87b-8a9f4493d352",
   "metadata": {},
   "source": [
    "### 4. Generate the data"
   ]
  },
  {
   "cell_type": "code",
   "execution_count": null,
   "id": "d5633107-1502-453d-a08a-83578e744d94",
   "metadata": {},
   "outputs": [],
   "source": [
    "# Generate number of records\n",
    "num_records = 5000  #Input Here --> the number of records to be generated\n",
    "df = generate_transactions(num_records)"
   ]
  },
  {
   "cell_type": "markdown",
   "id": "64f4cac4-a0e7-4950-9b35-0d7ee27ecb51",
   "metadata": {},
   "source": [
    "### 5. Export to Excel file"
   ]
  },
  {
   "cell_type": "markdown",
   "id": "db909fad-4c32-4adb-9679-c2aedf70a561",
   "metadata": {},
   "source": [
    "#### 5.1. Function to export data to excel"
   ]
  },
  {
   "cell_type": "code",
   "execution_count": null,
   "id": "0af8edab-2437-4f76-8d37-1db76880ec7a",
   "metadata": {},
   "outputs": [],
   "source": [
    "# Function to export data to excel\n",
    "\n",
    "def export_to_excel(df, file_name, num_of_records):\n",
    "    df.to_excel(file_name, index=False)\n",
    "    current_directory = os.getcwd()\n",
    "    print(f'Data exported sucessfully to {file_name} in path: {current_directory}!')"
   ]
  },
  {
   "cell_type": "markdown",
   "id": "912e22eb-cb28-4b43-85de-96d4f8ecd8ff",
   "metadata": {},
   "source": [
    "#### 5.2. Export data to Excel file"
   ]
  },
  {
   "cell_type": "code",
   "execution_count": null,
   "id": "c7a9cf02-010f-4ba9-9a85-265acaff9c6f",
   "metadata": {},
   "outputs": [],
   "source": [
    "# Export to excel file\n",
    "file_name = 'Banking_transaction_data.xlsx'\n",
    "export_to_excel(df, file_name, num_records) "
   ]
  },
  {
   "cell_type": "markdown",
   "id": "2268ef72-061e-47f2-81cf-60ef3276d59f",
   "metadata": {},
   "source": [
    "### 6. Populate data into SQL DB"
   ]
  },
  {
   "cell_type": "markdown",
   "id": "61e70ed8-a5e1-4e57-8bb3-9d217ce4f19e",
   "metadata": {},
   "source": [
    "#### 6.1. Function to insert data into SQL server using SqlAlchemy"
   ]
  },
  {
   "cell_type": "code",
   "execution_count": null,
   "id": "8bd9a568-d42a-4f2a-8e85-9be0982665de",
   "metadata": {},
   "outputs": [],
   "source": [
    "from sqlalchemy import create_engine\n",
    "\n",
    "def insert_into_sqlalchemy(df, server, database, table_name):\n",
    "    connection_string = f'mssql+pyodbc://@{server}/{database}?driver=ODBC+Driver+17+for+SQL+Server'\n",
    "    engine = create_engine(connection_string)\n",
    "\n",
    "    # Insert data\n",
    "    df.to_sql(table_name, con=engine, if_exists='append', index=False)\n",
    "    print(f'Data inserted into table {database}.dbo.{table_name}')"
   ]
  },
  {
   "cell_type": "code",
   "execution_count": null,
   "id": "17359e8d-7a7c-4f82-97fa-f25316013365",
   "metadata": {},
   "outputs": [],
   "source": [
    "# Insert into SQL server\n",
    "server = '<Your-Server-Name>'\n",
    "database = '<Your-Database-Name>'\n",
    "table_name = 'SRC_FINANCIAL_TRANSACTIONS'\n",
    "\n",
    "insert_into_sqlalchemy(df, server, database, table_name)"
   ]
  },
  {
   "cell_type": "code",
   "execution_count": null,
   "id": "0186900f-27d9-4577-b2c7-3c0ee7c7aabc",
   "metadata": {},
   "outputs": [],
   "source": []
  }
 ],
 "metadata": {
  "kernelspec": {
   "display_name": "Python 3 (ipykernel)",
   "language": "python",
   "name": "python3"
  },
  "language_info": {
   "codemirror_mode": {
    "name": "ipython",
    "version": 3
   },
   "file_extension": ".py",
   "mimetype": "text/x-python",
   "name": "python",
   "nbconvert_exporter": "python",
   "pygments_lexer": "ipython3",
   "version": "3.12.4"
  }
 },
 "nbformat": 4,
 "nbformat_minor": 5
}
